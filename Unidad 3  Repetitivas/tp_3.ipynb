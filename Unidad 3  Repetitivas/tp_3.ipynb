{
 "cells": [
  {
   "cell_type": "markdown",
   "id": "7f17bb83",
   "metadata": {},
   "source": [
    "# Trabajo practico - Unidad 3"
   ]
  },
  {
   "cell_type": "markdown",
   "id": "882bfcfc",
   "metadata": {},
   "source": [
    "Crea un programa que imprima en pantalla todos los números enteros desde 0 hasta 100\n",
    "(incluyendo ambos extremos), en orden creciente, mostrando un número por línea."
   ]
  },
  {
   "cell_type": "code",
   "execution_count": null,
   "id": "8d7a29d0",
   "metadata": {},
   "outputs": [],
   "source": [
    "for num in range (0,101,1):\n",
    "    print(num)"
   ]
  },
  {
   "cell_type": "markdown",
   "id": "30acf73c",
   "metadata": {},
   "source": [
    "## Ejercicio 2"
   ]
  },
  {
   "cell_type": "markdown",
   "id": "86a9e1d7",
   "metadata": {},
   "source": [
    "Desarrolla un programa que solicite al usuario un número entero y determine la cantidad de\n",
    "dígitos que contiene."
   ]
  },
  {
   "cell_type": "code",
   "execution_count": null,
   "id": "7ab7a667",
   "metadata": {},
   "outputs": [
    {
     "name": "stdout",
     "output_type": "stream",
     "text": [
      "la cantidad de digitos es  4\n"
     ]
    }
   ],
   "source": [
    "num = int(input(\"Ingrese su numero entero\"))\n",
    "contador = 0\n",
    "\n",
    "if num == 0:\n",
    "    print(1)\n",
    "\n",
    "while num > 0:\n",
    "        num //= 10    \n",
    "        contador += 1\n",
    "\n",
    "print(\"la cantidad de digitos es \", contador)\n"
   ]
  },
  {
   "cell_type": "markdown",
   "id": "51c31630",
   "metadata": {},
   "source": [
    "## Ejercicio 3"
   ]
  },
  {
   "cell_type": "markdown",
   "id": "cb520b5f",
   "metadata": {},
   "source": [
    "Escribe un programa que sume todos los números enteros comprendidos entre dos valores\n",
    "dados por el usuario, excluyendo esos dos valores.\n"
   ]
  },
  {
   "cell_type": "code",
   "execution_count": null,
   "id": "c65248a6",
   "metadata": {},
   "outputs": [
    {
     "name": "stdout",
     "output_type": "stream",
     "text": [
      "8\n"
     ]
    }
   ],
   "source": [
    "num1 = int(input(\"ingrese el valor numero uno\"))\n",
    "num2 = int(input(\"ingrese el valor numero dos\"))\n",
    "contador = 0\n",
    "\n",
    "for num in range(num1 + 1,num2,1):\n",
    "    contador += 1  \n",
    "    \n",
    "print (contador)"
   ]
  },
  {
   "cell_type": "markdown",
   "id": "47a27553",
   "metadata": {},
   "source": [
    "## Ejercicio 4"
   ]
  },
  {
   "cell_type": "markdown",
   "id": "889567d8",
   "metadata": {},
   "source": [
    "Elabora un programa que permita al usuario ingresar números enteros y los sume en\n",
    "secuencia. El programa debe detenerse y mostrar el total acumulado cuando el usuario ingrese\n",
    "un 0"
   ]
  },
  {
   "cell_type": "code",
   "execution_count": null,
   "id": "a349e904",
   "metadata": {},
   "outputs": [
    {
     "name": "stdout",
     "output_type": "stream",
     "text": [
      "El total acumulado es 17\n"
     ]
    }
   ],
   "source": [
    "num = int(input(\"ingrese su numero (0 para terminar)\"))\n",
    "contador = 0\n",
    "\n",
    "while num != 0:\n",
    "    contador+= num\n",
    "    num = int(input(\"Ingrese otro número (0 para terminar): \"))\n",
    "\n",
    "print (\"El total acumulado es\", contador)\n",
    "\n"
   ]
  },
  {
   "cell_type": "markdown",
   "id": "60701590",
   "metadata": {},
   "source": [
    "## Ejercicio 5"
   ]
  },
  {
   "cell_type": "markdown",
   "id": "d74c2042",
   "metadata": {},
   "source": [
    "Crea un juego en el que el usuario deba adivinar un número aleatorio entre 0 y 9. Al final, el\n",
    "programa debe mostrar cuántos intentos fueron necesarios para acertar el número."
   ]
  },
  {
   "cell_type": "code",
   "execution_count": null,
   "id": "1636bda1",
   "metadata": {},
   "outputs": [
    {
     "name": "stdout",
     "output_type": "stream",
     "text": [
      "¡Incorrecto! Intenta de nuevo.\n",
      "¡Incorrecto! Intenta de nuevo.\n",
      "¡Incorrecto! Intenta de nuevo.\n",
      "¡Incorrecto! Intenta de nuevo.\n",
      "¡Felicidades! Adivinaste el número en 5 intento(s).\n"
     ]
    }
   ],
   "source": [
    "import random\n",
    "\n",
    "numero_secreto = random.randint(0, 9)\n",
    "\n",
    "intentos = 0\n",
    "adivinado = False\n",
    "\n",
    "while not adivinado:\n",
    "    intento = int(input(\"Adivina el número (entre 0 y 9): \"))\n",
    "    intentos += 1\n",
    "    \n",
    "    if intento == numero_secreto:\n",
    "        adivinado = True\n",
    "        print(f\"¡Felicidades! Adivinaste el número en {intentos} intento(s).\")\n",
    "    else:\n",
    "        print(\"¡Incorrecto! Intenta de nuevo.\")"
   ]
  },
  {
   "cell_type": "markdown",
   "id": "0534f7b0",
   "metadata": {},
   "source": [
    "## Ejercicio 6"
   ]
  },
  {
   "cell_type": "markdown",
   "id": "c4f6ed83",
   "metadata": {},
   "source": [
    "Desarrolla un programa que imprima en pantalla todos los números pares comprendidos\n",
    "entre 0 y 100, en orden decreciente."
   ]
  },
  {
   "cell_type": "code",
   "execution_count": null,
   "id": "4148ef4d",
   "metadata": {},
   "outputs": [
    {
     "name": "stdout",
     "output_type": "stream",
     "text": [
      "100\n",
      "98\n",
      "96\n",
      "94\n",
      "92\n",
      "90\n",
      "88\n",
      "86\n",
      "84\n",
      "82\n",
      "80\n",
      "78\n",
      "76\n",
      "74\n",
      "72\n",
      "70\n",
      "68\n",
      "66\n",
      "64\n",
      "62\n",
      "60\n",
      "58\n",
      "56\n",
      "54\n",
      "52\n",
      "50\n",
      "48\n",
      "46\n",
      "44\n",
      "42\n",
      "40\n",
      "38\n",
      "36\n",
      "34\n",
      "32\n",
      "30\n",
      "28\n",
      "26\n",
      "24\n",
      "22\n",
      "20\n",
      "18\n",
      "16\n",
      "14\n",
      "12\n",
      "10\n",
      "8\n",
      "6\n",
      "4\n",
      "2\n"
     ]
    }
   ],
   "source": [
    "for i in range(100,0,-2):\n",
    "    print(i)"
   ]
  },
  {
   "cell_type": "markdown",
   "id": "c0d66d3b",
   "metadata": {},
   "source": [
    "## Ejercicio 7\n"
   ]
  },
  {
   "cell_type": "markdown",
   "id": "9c844998",
   "metadata": {},
   "source": [
    "Crea un programa que calcule la suma de todos los números comprendidos entre 0 y un\n",
    "número entero positivo indicado por el usuario."
   ]
  },
  {
   "cell_type": "code",
   "execution_count": 11,
   "id": "37bd3aea",
   "metadata": {},
   "outputs": [
    {
     "name": "stdout",
     "output_type": "stream",
     "text": [
      "15\n"
     ]
    }
   ],
   "source": [
    "num = int(input(\"Ingrese su numero positivo\"))\n",
    "suma = 0\n",
    "  \n",
    "for i in range(0, num+1):\n",
    "    suma += i\n",
    "print (suma)\n",
    "\n",
    "\n",
    "\n"
   ]
  },
  {
   "cell_type": "markdown",
   "id": "29649935",
   "metadata": {},
   "source": [
    "## Ejercicio 8"
   ]
  },
  {
   "cell_type": "markdown",
   "id": "533c418a",
   "metadata": {},
   "source": [
    "Escribe un programa que permita al usuario ingresar 100 números enteros. Luego, el\n",
    "programa debe indicar cuántos de estos números son pares, cuántos son impares, cuántos son\n",
    "negativos y cuántos son positivos. (Nota: para probar el programa puedes usar una cantidad\n",
    "menor, pero debe estar preparado para procesar 100 números con un solo cambio)."
   ]
  },
  {
   "cell_type": "code",
   "execution_count": null,
   "id": "d918982f",
   "metadata": {},
   "outputs": [
    {
     "name": "stdout",
     "output_type": "stream",
     "text": [
      "Cantidad de números pares: 1\n",
      "Cantidad de números impares: 1\n",
      "Cantidad de números positivos: 2\n",
      "Cantidad de números negativos: 0\n"
     ]
    }
   ],
   "source": [
    "pares = 0\n",
    "impares = 0\n",
    "positivos = 0\n",
    "negativos = 0\n",
    "\n",
    "cantidad_numeros = 100\n",
    "\n",
    "for i in range(cantidad_numeros):\n",
    "    num = int(input(f\"Ingrese el número {i+1}: \"))\n",
    "    if num % 2 == 0:\n",
    "        pares += 1\n",
    "    else:\n",
    "        impares += 1\n",
    "    if num > 0:\n",
    "        positivos += 1\n",
    "    elif num < 0:\n",
    "        negativos += 1\n",
    "        \n",
    "print(\"Cantidad de números pares:\", pares)\n",
    "print(\"Cantidad de números impares:\", impares)\n",
    "print(\"Cantidad de números positivos:\", positivos)\n",
    "print(\"Cantidad de números negativos:\", negativos)\n",
    "    "
   ]
  },
  {
   "cell_type": "markdown",
   "id": "153d53b2",
   "metadata": {},
   "source": [
    "## Ejercicio 9\n"
   ]
  },
  {
   "cell_type": "markdown",
   "id": "a36df841",
   "metadata": {},
   "source": [
    "Elabora un programa que permita al usuario ingresar 100 números enteros y luego calcule la\n",
    "media de esos valores. (Nota: puedes probar el programa con una cantidad menor, pero debe\n",
    "poder procesar 100 números cambiando solo un valor)."
   ]
  },
  {
   "cell_type": "code",
   "execution_count": null,
   "id": "1252b539",
   "metadata": {},
   "outputs": [
    {
     "ename": "TypeError",
     "evalue": "'int' object is not iterable",
     "output_type": "error",
     "traceback": [
      "\u001b[31m---------------------------------------------------------------------------\u001b[39m",
      "\u001b[31mTypeError\u001b[39m                                 Traceback (most recent call last)",
      "\u001b[36mCell\u001b[39m\u001b[36m \u001b[39m\u001b[32mIn[26]\u001b[39m\u001b[32m, line 3\u001b[39m\n\u001b[32m      1\u001b[39m \u001b[38;5;28;01mfrom\u001b[39;00m\u001b[38;5;250m \u001b[39m\u001b[34;01mstatistics\u001b[39;00m\u001b[38;5;250m \u001b[39m\u001b[38;5;28;01mimport\u001b[39;00m mean\n\u001b[32m----> \u001b[39m\u001b[32m3\u001b[39m media = \u001b[43mmean\u001b[49m\u001b[43m(\u001b[49m\u001b[43mnum\u001b[49m\u001b[43m)\u001b[49m\n\u001b[32m      4\u001b[39m cantidad_numeros = \u001b[32m2\u001b[39m\n\u001b[32m      7\u001b[39m \u001b[38;5;28;01mfor\u001b[39;00m i \u001b[38;5;129;01min\u001b[39;00m \u001b[38;5;28mrange\u001b[39m(cantidad_numeros):\n",
      "\u001b[36mFile \u001b[39m\u001b[32mC:\\Program Files\\WindowsApps\\PythonSoftwareFoundation.Python.3.11_3.11.2544.0_x64__qbz5n2kfra8p0\\Lib\\statistics.py:430\u001b[39m, in \u001b[36mmean\u001b[39m\u001b[34m(data)\u001b[39m\n\u001b[32m    414\u001b[39m \u001b[38;5;28;01mdef\u001b[39;00m\u001b[38;5;250m \u001b[39m\u001b[34mmean\u001b[39m(data):\n\u001b[32m    415\u001b[39m \u001b[38;5;250m    \u001b[39m\u001b[33;03m\"\"\"Return the sample arithmetic mean of data.\u001b[39;00m\n\u001b[32m    416\u001b[39m \n\u001b[32m    417\u001b[39m \u001b[33;03m    >>> mean([1, 2, 3, 4, 4])\u001b[39;00m\n\u001b[32m   (...)\u001b[39m\u001b[32m    428\u001b[39m \u001b[33;03m    If ``data`` is empty, StatisticsError will be raised.\u001b[39;00m\n\u001b[32m    429\u001b[39m \u001b[33;03m    \"\"\"\u001b[39;00m\n\u001b[32m--> \u001b[39m\u001b[32m430\u001b[39m     T, total, n = \u001b[43m_sum\u001b[49m\u001b[43m(\u001b[49m\u001b[43mdata\u001b[49m\u001b[43m)\u001b[49m\n\u001b[32m    431\u001b[39m     \u001b[38;5;28;01mif\u001b[39;00m n < \u001b[32m1\u001b[39m:\n\u001b[32m    432\u001b[39m         \u001b[38;5;28;01mraise\u001b[39;00m StatisticsError(\u001b[33m'\u001b[39m\u001b[33mmean requires at least one data point\u001b[39m\u001b[33m'\u001b[39m)\n",
      "\u001b[36mFile \u001b[39m\u001b[32mC:\\Program Files\\WindowsApps\\PythonSoftwareFoundation.Python.3.11_3.11.2544.0_x64__qbz5n2kfra8p0\\Lib\\statistics.py:191\u001b[39m, in \u001b[36m_sum\u001b[39m\u001b[34m(data)\u001b[39m\n\u001b[32m    189\u001b[39m partials = {}\n\u001b[32m    190\u001b[39m partials_get = partials.get\n\u001b[32m--> \u001b[39m\u001b[32m191\u001b[39m \u001b[38;5;28;01mfor\u001b[39;00m typ, values \u001b[38;5;129;01min\u001b[39;00m \u001b[43mgroupby\u001b[49m\u001b[43m(\u001b[49m\u001b[43mdata\u001b[49m\u001b[43m,\u001b[49m\u001b[43m \u001b[49m\u001b[38;5;28;43mtype\u001b[39;49m\u001b[43m)\u001b[49m:\n\u001b[32m    192\u001b[39m     types_add(typ)\n\u001b[32m    193\u001b[39m     \u001b[38;5;28;01mfor\u001b[39;00m n, d \u001b[38;5;129;01min\u001b[39;00m \u001b[38;5;28mmap\u001b[39m(_exact_ratio, values):\n",
      "\u001b[31mTypeError\u001b[39m: 'int' object is not iterable"
     ]
    }
   ],
   "source": [
    "from statistics import mean\n",
    "\n",
    "cantidad_numeros = 2\n",
    "numeros = []\n",
    "\n",
    "for i in range(cantidad_numeros):\n",
    "    num = int(input(f\"Ingrese el número {i+1}: \"))\n",
    "    numeros.append(num)\n",
    "\n",
    "media = mean(numeros)\n",
    "print(f\"La media es {media}\")"
   ]
  },
  {
   "cell_type": "markdown",
   "id": "e8014c4d",
   "metadata": {},
   "source": [
    "## Ejercicio 10"
   ]
  },
  {
   "cell_type": "markdown",
   "id": "75988d3a",
   "metadata": {},
   "source": [
    "Escribe un programa que invierta el orden de los dígitos de un número ingresado por el\n",
    "usuario. Ejemplo: si el usuario ingresa 547, el programa debe mostrar 745."
   ]
  },
  {
   "cell_type": "code",
   "execution_count": 28,
   "id": "bc1961a0",
   "metadata": {},
   "outputs": [
    {
     "name": "stdout",
     "output_type": "stream",
     "text": [
      "651\n"
     ]
    }
   ],
   "source": [
    "num = int(input(\"ingresa un numero\"))\n",
    "volteado = 0\n",
    "\n",
    "while num > 0:\n",
    "    digito = num % 10\n",
    "    volteado = volteado * 10 + digito\n",
    "    num = num // 10\n",
    "print(volteado)"
   ]
  }
 ],
 "metadata": {
  "kernelspec": {
   "display_name": "Python 3",
   "language": "python",
   "name": "python3"
  },
  "language_info": {
   "codemirror_mode": {
    "name": "ipython",
    "version": 3
   },
   "file_extension": ".py",
   "mimetype": "text/x-python",
   "name": "python",
   "nbconvert_exporter": "python",
   "pygments_lexer": "ipython3",
   "version": "3.11.9"
  }
 },
 "nbformat": 4,
 "nbformat_minor": 5
}
