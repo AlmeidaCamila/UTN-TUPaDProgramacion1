{
 "cells": [
  {
   "cell_type": "code",
   "execution_count": 3,
   "id": "04622550",
   "metadata": {},
   "outputs": [
    {
     "name": "stdout",
     "output_type": "stream",
     "text": [
      "Es mayor de edad\n"
     ]
    }
   ],
   "source": [
    "mayor_de_edad = 18\n",
    "edad = int(input(\"Ingresa tu edad\"))\n",
    "\n",
    "if edad >= mayor_de_edad:\n",
    "    print(\"Es mayor de edad\") "
   ]
  },
  {
   "cell_type": "markdown",
   "id": "c84a75f2",
   "metadata": {},
   "source": [
    "# Ejercicio 2\n",
    "\n",
    "Escribir un programa que solicite su nota al usuario. Si la nota es mayor o igual a 6, deberá mostrar por pantalla un mensaje que diga “Aprobado”; en caso contrario deberá mostrar el mensaje “Desaprobado”."
   ]
  },
  {
   "cell_type": "code",
   "execution_count": 6,
   "id": "20cad4bc",
   "metadata": {},
   "outputs": [
    {
     "name": "stdout",
     "output_type": "stream",
     "text": [
      "Aprobado\n"
     ]
    }
   ],
   "source": [
    "nota = int(input(\"Ingresa tu nota\"))\n",
    "\n",
    "if nota >= 6:\n",
    "    print(\"Aprobado\")\n",
    "else:\n",
    "    print(\"Desaprobado\")"
   ]
  },
  {
   "cell_type": "markdown",
   "id": "7118e3bd",
   "metadata": {},
   "source": [
    "# Ejercicio \n",
    "\n",
    "Escribir un programa que permita ingresar solo números pares. Si el usuario ingresa un\n",
    "número par, imprimir por en pantalla el mensaje \"Ha ingresado un número par\"; en caso\n",
    "contrario, imprimir por pantalla \"Por favor, ingrese un número par\". Nota: investigar el uso del\n",
    "operador de módulo (%) en Python para evaluar si un número es par o impar"
   ]
  },
  {
   "cell_type": "code",
   "execution_count": null,
   "id": "ae234c8b",
   "metadata": {},
   "outputs": [
    {
     "name": "stdout",
     "output_type": "stream",
     "text": [
      "El número es impar\n"
     ]
    }
   ],
   "source": [
    "num = float(input(\"Ingrese su numero\"))\n",
    "\n",
    "if num % 2 == 0:\n",
    "    print(\"Ha ingresado un número par\")\n",
    "else:\n",
    "    print(\"Por favor, ingrese un número par\")"
   ]
  },
  {
   "cell_type": "markdown",
   "id": "2c756c2a",
   "metadata": {},
   "source": [
    "# Ejercicio 4 \n",
    "\n",
    "Escribir un programa que solicite al usuario su edad e imprima por pantalla a cuál de las\n",
    "siguientes categorías pertenece:\n",
    "● Niño/a: menor de 12 años.\n",
    "● Adolescente: mayor o igual que 12 años y menor que 18 años.\n",
    "● Adulto/a joven: mayor o igual que 18 años y menor que 30 años.\n",
    "● Adulto/a: mayor o igual que 30 años."
   ]
  },
  {
   "cell_type": "code",
   "execution_count": 13,
   "id": "5cd2146b",
   "metadata": {},
   "outputs": [
    {
     "name": "stdout",
     "output_type": "stream",
     "text": [
      "Es un niño/a\n"
     ]
    }
   ],
   "source": [
    "edad = int(input(\"Ingrese su edad\"))\n",
    "\n",
    "if edad < 12:\n",
    "    print(\"Es un niño/a\")\n",
    "elif edad >= 12 and edad < 18:\n",
    "    print(\"Es adolescente\")\n",
    "elif edad >= 18 and edad < 30:\n",
    "    print(\"Adulto/a joven\")\n",
    "else:\n",
    "    print(\"Adulto/a\")"
   ]
  },
  {
   "cell_type": "markdown",
   "id": "4f531ae2",
   "metadata": {},
   "source": [
    "##### Ejercicio 5"
   ]
  },
  {
   "cell_type": "markdown",
   "id": "3c4bac43",
   "metadata": {},
   "source": [
    "Escribir un programa que permita introducir contraseñas de entre 8 y 14 caracteres (incluyendo 8 y 14). Si el usuario ingresa una contraseña de longitud adecuada, imprimir por en pantalla el mensaje \"Ha ingresado una contraseña correcta\"; en caso contrario, imprimir por pantalla \"Por favor, ingrese una contraseña de entre 8 y 14 caracteres\". Nota: investigue el uso de la función len() en Python para evaluar la cantidad de elementos que tiene un iterable tal como una lista o un string."
   ]
  },
  {
   "cell_type": "code",
   "execution_count": 7,
   "id": "87122fbb",
   "metadata": {},
   "outputs": [
    {
     "name": "stdout",
     "output_type": "stream",
     "text": [
      "Por favor, ingrese una contraseña de entre 8 y 14 caracteres\n"
     ]
    }
   ],
   "source": [
    "password = input(\"Ingresa tu contraseña\")\n",
    "\n",
    "if 8 <= len(password) <= 14:\n",
    "    print(\"Ha ingresado una contraseña correcta\")\n",
    "else:\n",
    "    print(\"Por favor, ingrese una contraseña de entre 8 y 14 caracteres\")"
   ]
  },
  {
   "cell_type": "markdown",
   "id": "78d5fd7a",
   "metadata": {},
   "source": [
    "#### Ejercicio 6"
   ]
  },
  {
   "cell_type": "markdown",
   "id": "f1adf316",
   "metadata": {},
   "source": [
    "Teniendo en cuenta lo antes mencionado, escribir un programa que tome la lista numeros_aleatorios, calcule su moda, su mediana y su media y las compare para determinar si hay sesgo positivo, negativo o no hay sesgo. Imprimir el resultado por pantalla.\n",
    "Definir la lista numeros_aleatorios de la siguiente forma:"
   ]
  },
  {
   "cell_type": "code",
   "execution_count": null,
   "id": "55ca57c5",
   "metadata": {},
   "outputs": [],
   "source": [
    "from statistics import mode, median, mean\n",
    "import random\n",
    "numeros_aleatorios = [random.randint(1,100) for i in range (50)]\n",
    "\n",
    "media = mean(numeros_aleatorios)\n",
    "moda = mode (numeros_aleatorios)\n",
    "mediana = median(numeros_aleatorios)\n",
    "\n",
    "if media > mediana > moda:\n",
    "    print(\"Hay sesgo positivo\")\n",
    "elif media < mediana < moda:\n",
    "    print(\"Hay sesgo negativo\")\n",
    "else:\n",
    "    print(\"no hay sesgo\")"
   ]
  },
  {
   "cell_type": "markdown",
   "id": "3d362a22",
   "metadata": {},
   "source": [
    "#Ejercicio 7\n"
   ]
  },
  {
   "cell_type": "markdown",
   "id": "9841433e",
   "metadata": {},
   "source": [
    "Escribir un programa que solicite una frase o palabra al usuario. Si el string ingresado termina con vocal, añadir un signo de exclamación al final e imprimir el string resultante por pantalla; en caso contrario, dejar el string tal cual lo ingresó el usuario e imprimirlo por pantalla."
   ]
  },
  {
   "cell_type": "code",
   "execution_count": 9,
   "id": "af558ec1",
   "metadata": {},
   "outputs": [
    {
     "name": "stdout",
     "output_type": "stream",
     "text": [
      "robert\n"
     ]
    }
   ],
   "source": [
    "palabra=input(\"Ingresa una palabra o frase\")\n",
    "\n",
    "if palabra.endswith((\"a\", \"e\", \"i\", \"o\", \"u\", \"A\", \"E\", \"I\", \"O\", \"U\")):\n",
    "    print (palabra + \"!\")\n",
    "else:\n",
    "    print(palabra)"
   ]
  },
  {
   "cell_type": "markdown",
   "id": "e9839ec9",
   "metadata": {},
   "source": [
    "# Ejercicio 8\n"
   ]
  },
  {
   "cell_type": "markdown",
   "id": "01aed424",
   "metadata": {},
   "source": [
    "Escribir un programa que solicite al usuario que ingrese su nombre y el número 1, 2 o 3 dependiendo de la opción que desee:\n",
    "1. Si quiere su nombre en mayúsculas. Por ejemplo: PEDRO.\n",
    "2. Si quiere su nombre en minúsculas. Por ejemplo: pedro.\n",
    "3. Si quiere su nombre con la primera letra mayúscula. Por ejemplo: Pedro.\n",
    "El programa debe transformar el nombre ingresado de acuerdo a la opción seleccionada por el usuario e imprimir el resultado por pantalla. Nota: investigue uso de las funciones upper(), lower() y title() de Python para convertir entre mayúsculas y minúsculas."
   ]
  },
  {
   "cell_type": "code",
   "execution_count": null,
   "id": "7d15a98c",
   "metadata": {},
   "outputs": [],
   "source": [
    "nombre=input(\"Ingrese su nombre\")\n",
    "opcion = input(\"elija un numero segun la opcion deseada: 1. Si quiere su nombre en mayúsculas 2. Si quiere su nombre en minúsculas. 3. Si quiere su nombre con la primera letra mayúscula.\")\n",
    "\n",
    "if opcion == \"1\":\n",
    "    print(nombre.upper())\n",
    "elif opcion == \"2\":\n",
    "    print (nombre.lower())\n",
    "elif opcion == \"3\":\n",
    "    print(nombre.title())\n",
    "else:\n",
    "    print(\"Ingresa una numero valido\")"
   ]
  },
  {
   "cell_type": "markdown",
   "id": "050f2227",
   "metadata": {},
   "source": [
    "# Ejercicio 9"
   ]
  },
  {
   "cell_type": "markdown",
   "id": "5d613ed9",
   "metadata": {},
   "source": [
    "Escribir un programa que pida al usuario la magnitud de un terremoto, clasifique la magnitud en una de las siguientes categorías según la escala de Richter e imprima el resultado por pantalla:\n",
    "● Menor que 3: \"Muy leve\" (imperceptible).\n",
    "● Mayor o igual que 3 y menor que 4: \"Leve\" (ligeramente perceptible).\n",
    "● Mayor o igual que 4 y menor que 5: \"Moderado\" (sentido por personas, pero generalmente no causa daños).\n",
    "● Mayor o igual que 5 y menor que 6: \"Fuerte\" (puede causar daños en estructuras débiles).\n",
    "● Mayor o igual que 6 y menor que 7: \"Muy Fuerte\" (puede causar daños significativos).\n",
    "● Mayor o igual que 7: \"Extremo\" (puede causar graves daños a gran escala)."
   ]
  },
  {
   "cell_type": "code",
   "execution_count": 13,
   "id": "5bc9cdfd",
   "metadata": {},
   "outputs": [
    {
     "name": "stdout",
     "output_type": "stream",
     "text": [
      "Fuerte\n"
     ]
    }
   ],
   "source": [
    "magnitud = float(input(\"Ingrese la magnitud del terremoto\"))\n",
    "\n",
    "if magnitud < 3:\n",
    "    print(\"Muy leve\")\n",
    "elif 3 <= magnitud < 4:\n",
    "    print(\"Leve\")\n",
    "elif 4 <= magnitud < 5:\n",
    "    print(\"Moderado\")\n",
    "elif 5 <= magnitud < 6:\n",
    "    print(\"Fuerte\")\n",
    "elif 6 <= magnitud < 7:\n",
    "    print(\"Muy fuerte\")\n",
    "else:\n",
    "    print(\"Extremo\")\n"
   ]
  },
  {
   "cell_type": "markdown",
   "id": "78ceb8d2",
   "metadata": {},
   "source": [
    "# Ejercicio 10"
   ]
  },
  {
   "cell_type": "markdown",
   "id": "d019e2c5",
   "metadata": {},
   "source": [
    "Escribir un programa que pregunte al usuario en cuál hemisferio se encuentra (N/S), qué mes del año es y qué día es. El programa deberá utilizar esa información para imprimir por pantalla si el usuario se encuentra en otoño, invierno, primavera o verano. "
   ]
  },
  {
   "cell_type": "code",
   "execution_count": null,
   "id": "79374204",
   "metadata": {},
   "outputs": [],
   "source": [
    "hemisferio = input(\"Ingrese su hemisferio S o N: \").upper()\n",
    "mes = int(input(\"Ingrese qué mes del año es (1-12): \"))\n",
    "dia = int(input(\"Ingrese el día (1-31): \"))\n",
    "\n",
    "if hemisferio == \"N\":\n",
    "    if (mes == 12 and dia >= 21) or mes in [1, 2] or (mes == 3 and dia <= 20):\n",
    "        print(\"Invierno\")\n",
    "    elif (mes == 3 and dia >= 21) or mes in [4, 5] or (mes == 6 and dia <= 20):\n",
    "        print(\"Primavera\")\n",
    "    elif (mes == 6 and dia >= 21) or mes in [7, 8] or (mes == 9 and dia <= 20):\n",
    "        print(\"Verano\")\n",
    "    elif (mes == 9 and dia >= 21) or mes in [10, 11] or (mes == 12 and dia <= 20):\n",
    "        print(\"Otoño\")\n",
    "    else:\n",
    "        print(\"Fecha inválida\")\n",
    "elif hemisferio == \"S\":\n",
    "    if (mes == 12 and dia >= 21) or mes in [1, 2] or (mes == 3 and dia <= 20):\n",
    "        print(\"Verano\")\n",
    "    elif (mes == 3 and dia >= 21) or mes in [4, 5] or (mes == 6 and dia <= 20):\n",
    "        print(\"Otoño\")\n",
    "    elif (mes == 6 and dia >= 21) or mes in [7, 8] or (mes == 9 and dia <= 20):\n",
    "        print(\"Invierno\")\n",
    "    elif (mes == 9 and dia >= 21) or mes in [10, 11] or (mes == 12 and dia <= 20):\n",
    "        print(\"Primavera\")\n",
    "    else:\n",
    "        print(\"Fecha inválida\")\n",
    "else:\n",
    "    print(\"Hemisferio no válido. Debe ser N o S\")"
   ]
  }
 ],
 "metadata": {
  "kernelspec": {
   "display_name": "Python 3",
   "language": "python",
   "name": "python3"
  },
  "language_info": {
   "codemirror_mode": {
    "name": "ipython",
    "version": 3
   },
   "file_extension": ".py",
   "mimetype": "text/x-python",
   "name": "python",
   "nbconvert_exporter": "python",
   "pygments_lexer": "ipython3",
   "version": "3.11.9"
  }
 },
 "nbformat": 4,
 "nbformat_minor": 5
}
